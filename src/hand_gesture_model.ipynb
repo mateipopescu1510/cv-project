{
 "cells": [
  {
   "cell_type": "code",
   "execution_count": 58,
   "metadata": {},
   "outputs": [],
   "source": [
    "import cv2 as cv\n",
    "import numpy as np\n",
    "import os\n",
    "import keras\n",
    "import glob\n",
    "import matplotlib.pyplot as plt\n",
    "from keras.datasets import mnist\n",
    "from keras.models import Sequential\n",
    "from keras.layers import Dense, Dropout, Flatten, BatchNormalization\n",
    "from keras.layers import Activation, Dropout\n",
    "from keras.layers import Conv2D, MaxPooling2D\n",
    "from keras import backend as K\n",
    "from keras.optimizers import Adam\n",
    "from sklearn.model_selection import train_test_split"
   ]
  },
  {
   "cell_type": "code",
   "execution_count": 6,
   "metadata": {},
   "outputs": [],
   "source": [
    "DATASET_PATH = '../data/'"
   ]
  },
  {
   "cell_type": "code",
   "execution_count": 65,
   "metadata": {},
   "outputs": [
    {
     "name": "stdout",
     "output_type": "stream",
     "text": [
      "Model: \"sequential_3\"\n",
      "_________________________________________________________________\n",
      " Layer (type)                Output Shape              Param #   \n",
      "=================================================================\n",
      " conv2d_3 (Conv2D)           (128, 98, 98, 64)         640       \n",
      "                                                                 \n",
      " batch_normalization_3 (Batc  (128, 98, 98, 64)        256       \n",
      " hNormalization)                                                 \n",
      "                                                                 \n",
      " max_pooling2d_3 (MaxPooling  (128, 49, 49, 64)        0         \n",
      " 2D)                                                             \n",
      "                                                                 \n",
      " dropout_6 (Dropout)         (128, 49, 49, 64)         0         \n",
      "                                                                 \n",
      " flatten_3 (Flatten)         (128, 153664)             0         \n",
      "                                                                 \n",
      " dense_6 (Dense)             (128, 128)                19669120  \n",
      "                                                                 \n",
      " dropout_7 (Dropout)         (128, 128)                0         \n",
      "                                                                 \n",
      " dense_7 (Dense)             (128, 6)                  774       \n",
      "                                                                 \n",
      "=================================================================\n",
      "Total params: 19,670,790\n",
      "Trainable params: 19,670,662\n",
      "Non-trainable params: 128\n",
      "_________________________________________________________________\n"
     ]
    }
   ],
   "source": [
    "model = Sequential()\n",
    "\n",
    "model.add(Conv2D(64, kernel_size=(3, 3), activation='relu'))\n",
    "model.add(BatchNormalization())\n",
    "model.add(MaxPooling2D(pool_size=(2,2)))\n",
    "model.add(Dropout(0.25))\n",
    "\n",
    "model.add(Flatten())\n",
    "model.add(Dense(128, activation='relu'))\n",
    "model.add(Dropout(0.5))\n",
    "\n",
    "model.add(Dense(6, activation='softmax'))\n",
    "\n",
    "optimizer = Adam()\n",
    "model.compile(optimizer=optimizer, loss='categorical_crossentropy', metrics=['categorical_accuracy'])\n",
    "\n",
    "model.build((128, 100, 100, 1))\n",
    "model.summary()"
   ]
  },
  {
   "cell_type": "code",
   "execution_count": 56,
   "metadata": {},
   "outputs": [],
   "source": [
    "def load_images():\n",
    "    images = []\n",
    "    gestures = ['blank', 'ok', 'thumbsup', 'thumbsdown', 'fist', 'five']\n",
    "\n",
    "    for gesture in gestures:\n",
    "        path = DATASET_PATH + gesture\n",
    "        files = glob.glob(path + '/*')\n",
    "        for i in range(0, 1500):\n",
    "            image = cv.imread(files[i])\n",
    "            image = cv.cvtColor(image, cv.COLOR_BGR2GRAY)\n",
    "            image = cv.resize(image, (100, 100))\n",
    "            images.append(image)\n",
    "        \n",
    "        \n",
    "    return images\n",
    "\n",
    "def load_labels():\n",
    "    labels = []\n",
    "    \n",
    "    for _ in range(1500):\n",
    "        labels.append([1, 0, 0, 0, 0, 0])\n",
    "    for _ in range(1500):\n",
    "        labels.append([0, 1, 0, 0, 0, 0])\n",
    "    for _ in range(1500):\n",
    "        labels.append([0, 0, 1, 0, 0, 0])\n",
    "    for _ in range(1500):\n",
    "        labels.append([0, 0, 0, 1, 0, 0])\n",
    "    for _ in range(1500):\n",
    "        labels.append([0, 0, 0, 0, 1, 0])\n",
    "    for _ in range(1500):\n",
    "        labels.append([0, 0, 0, 0, 0, 1])\n",
    "    \n",
    "    return labels"
   ]
  },
  {
   "cell_type": "code",
   "execution_count": 57,
   "metadata": {},
   "outputs": [
    {
     "data": {
      "text/plain": [
       "((9000, 100, 100), (9000, 6))"
      ]
     },
     "execution_count": 57,
     "metadata": {},
     "output_type": "execute_result"
    }
   ],
   "source": [
    "X = np.asarray(load_images())\n",
    "y = np.asarray(load_labels())\n",
    "X.shape, y.shape"
   ]
  },
  {
   "cell_type": "code",
   "execution_count": 59,
   "metadata": {},
   "outputs": [],
   "source": [
    "X_train, X_test, y_train, y_test = train_test_split(X, y, test_size=0.2, random_state=101)"
   ]
  },
  {
   "cell_type": "code",
   "execution_count": 61,
   "metadata": {},
   "outputs": [
    {
     "data": {
      "text/plain": [
       "((7200, 100, 100, 1), (1800, 100, 100, 1))"
      ]
     },
     "execution_count": 61,
     "metadata": {},
     "output_type": "execute_result"
    }
   ],
   "source": [
    "X_train = X_train.reshape(X_train.shape[0], 100, 100, 1)\n",
    "X_test = X_test.reshape(X_test.shape[0], 100, 100, 1)\n",
    "X_train.shape, X_test.shape"
   ]
  },
  {
   "cell_type": "code",
   "execution_count": 66,
   "metadata": {},
   "outputs": [
    {
     "name": "stdout",
     "output_type": "stream",
     "text": [
      "Epoch 1/10\n",
      "57/57 [==============================] - 48s 829ms/step - loss: 2.8832 - categorical_accuracy: 0.8676 - val_loss: 0.4518 - val_categorical_accuracy: 0.9650\n",
      "Epoch 2/10\n",
      "57/57 [==============================] - 47s 834ms/step - loss: 0.1717 - categorical_accuracy: 0.9619 - val_loss: 0.0745 - val_categorical_accuracy: 0.9861\n",
      "Epoch 3/10\n",
      "57/57 [==============================] - 45s 784ms/step - loss: 0.1432 - categorical_accuracy: 0.9715 - val_loss: 0.0135 - val_categorical_accuracy: 0.9978\n",
      "Epoch 4/10\n",
      "57/57 [==============================] - 43s 754ms/step - loss: 0.1024 - categorical_accuracy: 0.9747 - val_loss: 0.0035 - val_categorical_accuracy: 0.9978\n",
      "Epoch 5/10\n",
      "57/57 [==============================] - 44s 767ms/step - loss: 0.1161 - categorical_accuracy: 0.9785 - val_loss: 0.0014 - val_categorical_accuracy: 0.9994\n",
      "Epoch 6/10\n",
      "57/57 [==============================] - 44s 779ms/step - loss: 0.1616 - categorical_accuracy: 0.9749 - val_loss: 0.0024 - val_categorical_accuracy: 0.9989\n",
      "Epoch 7/10\n",
      "57/57 [==============================] - 43s 754ms/step - loss: 0.0966 - categorical_accuracy: 0.9817 - val_loss: 8.0108e-05 - val_categorical_accuracy: 1.0000\n",
      "Epoch 8/10\n",
      "57/57 [==============================] - 43s 757ms/step - loss: 0.1256 - categorical_accuracy: 0.9768 - val_loss: 0.0034 - val_categorical_accuracy: 0.9989\n",
      "Epoch 9/10\n",
      "57/57 [==============================] - 43s 758ms/step - loss: 0.0691 - categorical_accuracy: 0.9801 - val_loss: 0.0027 - val_categorical_accuracy: 0.9989\n",
      "Epoch 10/10\n",
      "57/57 [==============================] - 43s 751ms/step - loss: 0.0628 - categorical_accuracy: 0.9828 - val_loss: 9.6464e-04 - val_categorical_accuracy: 0.9994\n",
      "57/57 [==============================] - 3s 47ms/step - loss: 9.6463e-04 - categorical_accuracy: 0.9994\n",
      "loss: 0.0009646333055570722; accuracy: 0.9994444251060486\n"
     ]
    }
   ],
   "source": [
    "model.fit(X_train, y_train, batch_size=128, epochs=10, verbose=1, validation_data=(X_test, y_test))\n",
    "loss, accuracy = model.evaluate(X_test, y_test, verbose=1)\n",
    "print(f'loss: {loss}; accuracy: {accuracy}')"
   ]
  },
  {
   "cell_type": "code",
   "execution_count": 67,
   "metadata": {},
   "outputs": [],
   "source": [
    "model.save('./hand_recognition_model.keras')"
   ]
  }
 ],
 "metadata": {
  "kernelspec": {
   "display_name": "Python 3.11.2 64-bit",
   "language": "python",
   "name": "python3"
  },
  "language_info": {
   "codemirror_mode": {
    "name": "ipython",
    "version": 3
   },
   "file_extension": ".py",
   "mimetype": "text/x-python",
   "name": "python",
   "nbconvert_exporter": "python",
   "pygments_lexer": "ipython3",
   "version": "3.11.2"
  },
  "orig_nbformat": 4,
  "vscode": {
   "interpreter": {
    "hash": "c261aea317cc0286b3b3261fbba9abdec21eaa57589985bb7a274bf54d6cc0a7"
   }
  }
 },
 "nbformat": 4,
 "nbformat_minor": 2
}
